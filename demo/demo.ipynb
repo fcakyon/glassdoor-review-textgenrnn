{
 "cells": [
  {
   "cell_type": "code",
   "execution_count": 3,
   "id": "three-storage",
   "metadata": {},
   "outputs": [],
   "source": [
    "import os\n",
    "os.chdir(\"..\")"
   ]
  },
  {
   "cell_type": "markdown",
   "id": "satellite-bicycle",
   "metadata": {},
   "source": [
    "- Import required modules:"
   ]
  },
  {
   "cell_type": "code",
   "execution_count": null,
   "id": "missing-delight",
   "metadata": {},
   "outputs": [],
   "source": [
    "from preprocess import preprocess\n",
    "from model import train, generate"
   ]
  },
  {
   "cell_type": "markdown",
   "id": "after-reduction",
   "metadata": {},
   "source": [
    "- Set data and training related parameters:"
   ]
  },
  {
   "cell_type": "code",
   "execution_count": 1,
   "id": "skilled-constitution",
   "metadata": {},
   "outputs": [],
   "source": [
    "csv_path = \"data/turkishairlines_reviews.csv\"\n",
    "txt_path = \"data/turkishairlines_reviews.txt\"\n",
    "textgenrnn_weight_path = \"data/turkishairlines_reviews_weight.hdf5\"\n",
    "textgenrnn_output_path = \"data/turkishairlines_reviews_textgenrcnn.txt\"\n",
    "num_epochs = 20  # number of training epochs\n",
    "num_sentences = 20  # number of sentences to be generated after training"
   ]
  },
  {
   "cell_type": "markdown",
   "id": "excellent-ethnic",
   "metadata": {},
   "source": [
    "- Preprocess data, train model and generate sentences:"
   ]
  },
  {
   "cell_type": "code",
   "execution_count": null,
   "id": "neutral-kernel",
   "metadata": {},
   "outputs": [],
   "source": [
    "# Preprocess pros and cons column of the csv file given in source_path.\n",
    "# Then export each sentence in a new line to target_path as a txt file.\n",
    "preprocess(csv_path, txt_path)\n",
    "\n",
    "# Train char rnn model using the data in txt_path for num_epochs epochs.\n",
    "# Then save the trained model to weight_path.\n",
    "train(txt_path=txt_path, weight_path=textgenrnn_weight_path, num_epochs=num_epochs)\n",
    "\n",
    "# Generate num_sentences number of sentences using the model weights given in weight_path.\n",
    "# Then save the generated sentences to output_path.\n",
    "generate(\n",
    "    weight_path=textgenrnn_weight_path,\n",
    "    output_path=textgenrnn_output_path,\n",
    "    num_sentences=num_sentences,\n",
    ")"
   ]
  },
  {
   "cell_type": "markdown",
   "id": "understood-velvet",
   "metadata": {},
   "source": [
    "- Print generated sentences:"
   ]
  },
  {
   "cell_type": "code",
   "execution_count": 5,
   "id": "overall-discretion",
   "metadata": {},
   "outputs": [
    {
     "name": "stdout",
     "output_type": "stream",
     "text": [
      "not a strenglife\n",
      "Management structure has to make a satisfalt. The world this is the old pandemic averals on the world.\n",
      "No career path due to the dick by insurance. Health is relatively hand, he works\n",
      "So many company with many supporters, free on the global room, needs a global company. Turkey is not coming from the same party if you have a great company which on the ruling training.\n",
      "Just do what your have been doing good working hours, especially, colleauged merit of salary\n",
      "company management is allowed tip got megitest passengers.\n",
      "Management structure has no respect to persopre, especially with many company. It is a brand managers and no opportunities and be paid over the day\n",
      "Good working conditions are not paying all over the aircrafts a lot not being the travel regular.\n",
      "Human Resources Strategies for employees are not compared to the salary. The company was not onee Turrin. Also employees are not performance in the company\n",
      "Great cockpin hours\n",
      "Flight benefits of different personnel's companies in the world.\n",
      "Please keep me ab honourcess vise\n",
      "Cheap flight tickets\n",
      "3.Managers being sent to more than 10 minute. Salary is great because of the company. More company thing in the world istance.\n",
      "No career path (neturement  lither), and international company. The company was requested against tickets.\n",
      "performance management style style, lack of respect ticket for current child\n",
      "only half of the personel does not stay to work.\n",
      "4. Good managers and local staff to grow in the lack. In aviation systems are not poor standards. They don't know anyone, you are not payd. Salary is not being turkiditional department\n",
      "Free Tickets\n",
      "be honest\n",
      "\n"
     ]
    }
   ],
   "source": [
    "with open(textgenrnn_output_path) as text_file:\n",
    "    file_content = text_file.read()\n",
    "    print(file_content)"
   ]
  },
  {
   "cell_type": "code",
   "execution_count": null,
   "id": "outside-original",
   "metadata": {},
   "outputs": [],
   "source": []
  }
 ],
 "metadata": {
  "kernelspec": {
   "display_name": "Python3.8 (textgenrnn)",
   "language": "python",
   "name": "textgenrnn"
  },
  "language_info": {
   "codemirror_mode": {
    "name": "ipython",
    "version": 3
   },
   "file_extension": ".py",
   "mimetype": "text/x-python",
   "name": "python",
   "nbconvert_exporter": "python",
   "pygments_lexer": "ipython3",
   "version": "3.8.5"
  }
 },
 "nbformat": 4,
 "nbformat_minor": 5
}
